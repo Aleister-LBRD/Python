{
 "cells": [
  {
   "cell_type": "markdown",
   "metadata": {},
   "source": [
    "ESTRUTURA BASICA DE CLASSE 1"
   ]
  },
  {
   "cell_type": "code",
   "execution_count": 4,
   "metadata": {},
   "outputs": [],
   "source": [
    "class Chatbot():\n",
    "    def __init__(self,nome):\n",
    "        self.nome = nome\n",
    "    def fala(self):\n",
    "        print('hello, my name is '+self.nome)\n"
   ]
  },
  {
   "cell_type": "code",
   "execution_count": 6,
   "metadata": {},
   "outputs": [
    {
     "name": "stdout",
     "output_type": "stream",
     "text": [
      "hello, my name is Alex\n",
      "hello, my name is Andre\n"
     ]
    }
   ],
   "source": [
    "a = Chatbot('Alex')\n",
    "a.fala()\n",
    "\n",
    "Chatbot('Andre').fala()"
   ]
  },
  {
   "cell_type": "markdown",
   "metadata": {},
   "source": [
    "ESTRUTURA BASICA DE CLASSE 2"
   ]
  },
  {
   "cell_type": "code",
   "execution_count": 8,
   "metadata": {},
   "outputs": [],
   "source": [
    "class animais():\n",
    "    def __init__(self,tipo):\n",
    "        self.tipo = tipo\n",
    "        print('objeto criado para '+str(tipo))\n",
    "    def fala(self,lingua):\n",
    "        self.lingua = lingua\n",
    "        print('este animal '+str(lingua))\n",
    "    "
   ]
  },
  {
   "cell_type": "code",
   "execution_count": 9,
   "metadata": {},
   "outputs": [
    {
     "name": "stdout",
     "output_type": "stream",
     "text": [
      "objeto criado para cachorro\n",
      "este animal late\n"
     ]
    }
   ],
   "source": [
    "animal = input('digite um animal: ')\n",
    "a1 = animais(animal)\n",
    "a1.fala('late')"
   ]
  },
  {
   "cell_type": "markdown",
   "metadata": {},
   "source": [
    "CRIANDO PRIMEIRA CLASSE E OBJETOS"
   ]
  },
  {
   "cell_type": "code",
   "execution_count": 68,
   "metadata": {},
   "outputs": [],
   "source": [
    "# Definindo uma classe\n",
    "class Livro():\n",
    "\n",
    "    # Metodo: __init__ inicializa cada objeto criado e (self) é a referencia a cada atributo do objeto\n",
    "    def __init__(self, titulo, autor, isbn = 1):\n",
    "\n",
    "        # Atibuto: self define o atributo do objeto\n",
    "        self.titulo = titulo\n",
    "        self.autor = autor\n",
    "        self.isbn = isbn\n",
    "        print ('Contrutor chamado para criar o objeto desta classe')\n",
    "\n",
    "    def __str__(self):\n",
    "        return \"Titulo: %s , autor: %s, isbn: %s\" %(self.titulo, self.autor, self.isbn)\n",
    "\n",
    "    def imprime (self, titulo, autor, isbn):\n",
    "        print ('Foi criado o livro %s, autor:%s e ISBN %i' %(titulo, autor, isbn))\n"
   ]
  },
  {
   "cell_type": "code",
   "execution_count": 73,
   "metadata": {},
   "outputs": [
    {
     "name": "stdout",
     "output_type": "stream",
     "text": [
      "Contrutor chamado para criar o objeto desta classe\n"
     ]
    }
   ],
   "source": [
    "# Cadastrando o objeto a classe\n",
    "livro1 = Livro(\"a menina que roubava livros\", \"desconhecido\", 77886611)"
   ]
  },
  {
   "cell_type": "code",
   "execution_count": 74,
   "metadata": {},
   "outputs": [
    {
     "data": {
      "text/plain": [
       "'a menina que roubava livros'"
      ]
     },
     "execution_count": 74,
     "metadata": {},
     "output_type": "execute_result"
    }
   ],
   "source": [
    "# Consultando titulo\n",
    "livro1.titulo\n"
   ]
  },
  {
   "cell_type": "code",
   "execution_count": 78,
   "metadata": {},
   "outputs": [
    {
     "name": "stdout",
     "output_type": "stream",
     "text": [
      "Titulo: a menina que roubava livros , autor: desconhecido, isbn: 77886611\n"
     ]
    }
   ],
   "source": [
    "# imprimindo\n",
    "print(livro1)"
   ]
  },
  {
   "cell_type": "markdown",
   "metadata": {},
   "source": [
    "VINCULANDO CLASSES"
   ]
  },
  {
   "cell_type": "code",
   "execution_count": 57,
   "metadata": {},
   "outputs": [],
   "source": [
    "# Classe principal\n",
    "class Animal():\n",
    "    def __init__(self):\n",
    "        print('animal criado')\n",
    "    def tipo(self):\n",
    "        print('tipo animal')\n"
   ]
  },
  {
   "cell_type": "code",
   "execution_count": 58,
   "metadata": {},
   "outputs": [],
   "source": [
    "# criando a classe secundaria e vinculando a classe principal\n",
    "class Dog():\n",
    "    def __init__(self, nome, raca):\n",
    "        Animal.__init__(self)\n",
    "        self.nome = nome\n",
    "        self.raca = raca\n",
    "        print('cadastrado com sucesso')\n",
    "    def tipo(self):\n",
    "        print('tipo cachorro')\n"
   ]
  },
  {
   "cell_type": "code",
   "execution_count": 60,
   "metadata": {},
   "outputs": [
    {
     "name": "stdout",
     "output_type": "stream",
     "text": [
      "animal criado\n",
      "cadastrado com sucesso\n"
     ]
    }
   ],
   "source": [
    "# Cadastrando\n",
    "dog1 = Dog('rex','husky')"
   ]
  },
  {
   "cell_type": "code",
   "execution_count": 62,
   "metadata": {},
   "outputs": [
    {
     "name": "stdout",
     "output_type": "stream",
     "text": [
      "tipo cachorro\n"
     ]
    }
   ],
   "source": [
    "dog1.tipo()"
   ]
  },
  {
   "cell_type": "markdown",
   "metadata": {},
   "source": [
    "TRABALHANDO METODOS E OBJETOS\n"
   ]
  },
  {
   "cell_type": "code",
   "execution_count": 39,
   "metadata": {},
   "outputs": [
    {
     "data": {
      "text/plain": [
       "78.5"
      ]
     },
     "execution_count": 39,
     "metadata": {},
     "output_type": "execute_result"
    }
   ],
   "source": [
    "# Criando classe\n",
    "class Circulo():\n",
    "    # Definindo variavel\n",
    "    pi = 3.14\n",
    "    # Definindo objeto\n",
    "    def __init__(self, raio = 5):\n",
    "        self.raio = raio\n",
    "    \n",
    "    # metodo calcula are\n",
    "    def area(self):\n",
    "        return (self.raio * self.raio) * Circulo.pi\n",
    "\n",
    "    # medoto obter raio\n",
    "    def getraio(self):\n",
    "        return self.raio\n",
    "\n",
    "Circulo().area()"
   ]
  },
  {
   "cell_type": "code",
   "execution_count": 112,
   "metadata": {},
   "outputs": [
    {
     "name": "stdout",
     "output_type": "stream",
     "text": [
      "Doctor: Hello, my name is Sam I'm your doctor, what's your name and age?\n",
      "Patient: Hi Dr. Sam, my name is Tom I'm 35\n",
      "\n",
      "Patient: Hello, my name is Sam I'm your doctor, what's your name and age?\n",
      "Patient: Hi Dr. Sam, my name is Tom I'm 35\n"
     ]
    }
   ],
   "source": [
    "# herdando classe\n",
    "\n",
    "\n",
    "class Doctor():\n",
    "    def __init__(self, nameDoctor):\n",
    "        self.nameClass = self.__class__.__name__\n",
    "        self.nameDoctor = nameDoctor\n",
    "\n",
    "    def intro(self):\n",
    "        print (f\"{self.nameClass}: Hello, my name is \"+self.nameDoctor+\" I'm your doctor, what's your name and age?\")\n",
    "    \n",
    "class Patient(Doctor):\n",
    "    def __init__(self, nameDoctor, namePatient, agePatient):\n",
    "        super().__init__(nameDoctor)\n",
    "        self.nameClass = self.__class__.__name__\n",
    "        self.namePatient = namePatient\n",
    "        self.agePatient = agePatient\n",
    "    \n",
    "    def greet(self):\n",
    "        print(f\"{self.nameClass}: Hi Dr. {self.nameDoctor}, my name is {self.namePatient} I'm {self.agePatient}\")\n",
    "\n",
    "\n",
    "Doctor(\"Sam\").intro()\n",
    "Patient(\"Sam\",\"Tom\",35).greet()\n",
    "print(\"\")\n",
    "Patient(\"Sam\", \"Tom\", 35).intro()\n",
    "Patient(\"Sam\", \"Tom\", 35).greet()\n",
    "\n",
    "\n",
    "\n"
   ]
  }
 ],
 "metadata": {
  "kernelspec": {
   "display_name": "Python 3.9.12 ('base')",
   "language": "python",
   "name": "python3"
  },
  "language_info": {
   "codemirror_mode": {
    "name": "ipython",
    "version": 3
   },
   "file_extension": ".py",
   "mimetype": "text/x-python",
   "name": "python",
   "nbconvert_exporter": "python",
   "pygments_lexer": "ipython3",
   "version": "3.9.12"
  },
  "orig_nbformat": 4,
  "vscode": {
   "interpreter": {
    "hash": "83fd2c460b4c3c4fddeb052a5d98b173390b33728956ff4bb0c8a4db32b23eec"
   }
  }
 },
 "nbformat": 4,
 "nbformat_minor": 2
}
