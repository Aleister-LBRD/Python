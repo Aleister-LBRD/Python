{
 "cells": [
  {
   "cell_type": "code",
   "execution_count": 10,
   "metadata": {},
   "outputs": [],
   "source": [
    "# Definindo uma classe\n",
    "class Livro():\n",
    "\n",
    "    # Metodo: __init__ inicializa cada objeto criado e (self) é a referencia a cada atributo do objeto\n",
    "    def __init__(self, titulo, isbn):\n",
    "\n",
    "        # Atibuto: self define o atributo do objeto\n",
    "        self.titulo = titulo\n",
    "        self.isbn = isbn\n",
    "        print ('Contrutor chamado para criar o objeto desta classe')\n",
    "\n",
    "    def imprime (self, titulo, isbn):\n",
    "        print ('Foi criado o livro %s e ISBN %i' %(titulo, isbn))\n"
   ]
  },
  {
   "cell_type": "code",
   "execution_count": 11,
   "metadata": {},
   "outputs": [
    {
     "name": "stdout",
     "output_type": "stream",
     "text": [
      "Contrutor chamado para criar o objeto desta classe\n"
     ]
    }
   ],
   "source": [
    "# Cadastrando o objeto a classe\n",
    "livro1 = Livro(\"a menina que roubava livros\", 77886611)"
   ]
  },
  {
   "cell_type": "code",
   "execution_count": 12,
   "metadata": {},
   "outputs": [
    {
     "data": {
      "text/plain": [
       "'a menina que roubava livros'"
      ]
     },
     "execution_count": 12,
     "metadata": {},
     "output_type": "execute_result"
    }
   ],
   "source": [
    "# Consultando titulo\n",
    "livro1.titulo"
   ]
  },
  {
   "cell_type": "code",
   "execution_count": 16,
   "metadata": {},
   "outputs": [
    {
     "name": "stdout",
     "output_type": "stream",
     "text": [
      "Foi criado o livro a menina que roubava livros e ISBN 77886611\n"
     ]
    }
   ],
   "source": [
    "# Imprimindo status\n",
    "livro1.imprime(\"a menina que roubava livros\", 77886611)"
   ]
  }
 ],
 "metadata": {
  "kernelspec": {
   "display_name": "Python 3.9.12 ('base')",
   "language": "python",
   "name": "python3"
  },
  "language_info": {
   "codemirror_mode": {
    "name": "ipython",
    "version": 3
   },
   "file_extension": ".py",
   "mimetype": "text/x-python",
   "name": "python",
   "nbconvert_exporter": "python",
   "pygments_lexer": "ipython3",
   "version": "3.9.12"
  },
  "orig_nbformat": 4,
  "vscode": {
   "interpreter": {
    "hash": "83fd2c460b4c3c4fddeb052a5d98b173390b33728956ff4bb0c8a4db32b23eec"
   }
  }
 },
 "nbformat": 4,
 "nbformat_minor": 2
}
