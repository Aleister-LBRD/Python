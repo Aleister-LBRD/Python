{
 "cells": [
  {
   "cell_type": "code",
   "execution_count": 53,
   "metadata": {},
   "outputs": [],
   "source": [
    "# Reemove o arquivo com o banco de dados SQLite (caso exista)\n",
    "import os\n",
    "os.remove(\"Arquivos/escola.db\") if os.path.exists(\"Arquivos/escola.db\") else None\n",
    "# Importando o módulo de acesso ao SQLite\n",
    "import sqlite3"
   ]
  },
  {
   "cell_type": "code",
   "execution_count": 51,
   "metadata": {},
   "outputs": [],
   "source": [
    "# Cria uma conexão com o banco de dados. \n",
    "# Se o banco de dados não existir, ele é criado neste momento.\n",
    "connect = sqlite3.connect('Arquivos/escola2.db')\n",
    "# Criando um cursor \n",
    "# (Um cursor permite percorrer todos os registros em um conjunto de dados)\n",
    "sql = connect.cursor()"
   ]
  },
  {
   "cell_type": "code",
   "execution_count": 54,
   "metadata": {},
   "outputs": [
    {
     "ename": "OperationalError",
     "evalue": "table cursos already exists",
     "output_type": "error",
     "traceback": [
      "\u001b[1;31m---------------------------------------------------------------------------\u001b[0m",
      "\u001b[1;31mOperationalError\u001b[0m                          Traceback (most recent call last)",
      "\u001b[1;32md:\\Alexandre\\GitHub\\Python\\13_SQL.ipynb Cell 3\u001b[0m in \u001b[0;36m<cell line: 2>\u001b[1;34m()\u001b[0m\n\u001b[0;32m      <a href='vscode-notebook-cell:/d%3A/Alexandre/GitHub/Python/13_SQL.ipynb#W5sZmlsZQ%3D%3D?line=0'>1</a>\u001b[0m \u001b[39m# Executando a instrução sql no cursor\u001b[39;00m\n\u001b[1;32m----> <a href='vscode-notebook-cell:/d%3A/Alexandre/GitHub/Python/13_SQL.ipynb#W5sZmlsZQ%3D%3D?line=1'>2</a>\u001b[0m sql\u001b[39m.\u001b[39;49mexecute(\u001b[39m'\u001b[39;49m\u001b[39mcreate table cursos (id integer primary key, titulo varchar(100), categoria varchar(140))\u001b[39;49m\u001b[39m'\u001b[39;49m)\n",
      "\u001b[1;31mOperationalError\u001b[0m: table cursos already exists"
     ]
    }
   ],
   "source": [
    "# Executando a instrução sql no cursor\n",
    "sql.execute('create table cursos (id integer primary key, titulo varchar(100), categoria varchar(140))')"
   ]
  },
  {
   "cell_type": "code",
   "execution_count": 8,
   "metadata": {},
   "outputs": [],
   "source": [
    "# Dados\n",
    "dataset = [(1000, 'Ciência de Dados', 'Data Science'),\n",
    "          (1001, 'Big Data Fundamentos', 'Big Data'),\n",
    "          (1002, 'Python Fundamentos', 'Análise de Dados')]"
   ]
  },
  {
   "cell_type": "code",
   "execution_count": 9,
   "metadata": {},
   "outputs": [],
   "source": [
    "# Inserindo os registros\n",
    "for i in dataset:\n",
    "    sql.execute('insert into cursos values (?, ?, ?)', i)\n",
    "# Grava a transação\n",
    "connect.commit()"
   ]
  },
  {
   "cell_type": "code",
   "execution_count": 55,
   "metadata": {},
   "outputs": [
    {
     "name": "stdout",
     "output_type": "stream",
     "text": [
      "Curso Id: 1000, Título: Ciência de Dados, Categoria: Data Science \n",
      "\n",
      "Curso Id: 1001, Título: Big Data Fundamentos, Categoria: Big Data \n",
      "\n",
      "Curso Id: 1002, Título: Python Fundamentos, Categoria: Análise de Dados \n",
      "\n",
      "Curso Id: 1003, Título: Gestão de Dados com MongoDB, Categoria: Big Data \n",
      "\n",
      "Curso Id: 1004, Título: R Fundamentos, Categoria: Análise de Dados \n",
      "\n"
     ]
    }
   ],
   "source": [
    "# Seleciona todos os registros e recupera os registros\n",
    "sql.execute('select * from cursos')\n",
    "\n",
    "# Mostra dados da tabela\n",
    "for i in sql.fetchall():\n",
    "    print ('Curso Id: %d, Título: %s, Categoria: %s \\n' % i)"
   ]
  },
  {
   "cell_type": "code",
   "execution_count": 56,
   "metadata": {},
   "outputs": [
    {
     "ename": "IntegrityError",
     "evalue": "UNIQUE constraint failed: cursos.id",
     "output_type": "error",
     "traceback": [
      "\u001b[1;31m---------------------------------------------------------------------------\u001b[0m",
      "\u001b[1;31mIntegrityError\u001b[0m                            Traceback (most recent call last)",
      "\u001b[1;32md:\\Alexandre\\GitHub\\Python\\13_SQL.ipynb Cell 7\u001b[0m in \u001b[0;36m<cell line: 6>\u001b[1;34m()\u001b[0m\n\u001b[0;32m      <a href='vscode-notebook-cell:/d%3A/Alexandre/GitHub/Python/13_SQL.ipynb#X16sZmlsZQ%3D%3D?line=4'>5</a>\u001b[0m \u001b[39m# Inserindo os registros\u001b[39;00m\n\u001b[0;32m      <a href='vscode-notebook-cell:/d%3A/Alexandre/GitHub/Python/13_SQL.ipynb#X16sZmlsZQ%3D%3D?line=5'>6</a>\u001b[0m \u001b[39mfor\u001b[39;00m i \u001b[39min\u001b[39;00m dataset:\n\u001b[1;32m----> <a href='vscode-notebook-cell:/d%3A/Alexandre/GitHub/Python/13_SQL.ipynb#X16sZmlsZQ%3D%3D?line=6'>7</a>\u001b[0m     sql\u001b[39m.\u001b[39;49mexecute(\u001b[39m'\u001b[39;49m\u001b[39minsert into cursos values (?, ?, ?)\u001b[39;49m\u001b[39m'\u001b[39;49m, i)\n\u001b[0;32m      <a href='vscode-notebook-cell:/d%3A/Alexandre/GitHub/Python/13_SQL.ipynb#X16sZmlsZQ%3D%3D?line=8'>9</a>\u001b[0m \u001b[39m# Gravando a transação\u001b[39;00m\n\u001b[0;32m     <a href='vscode-notebook-cell:/d%3A/Alexandre/GitHub/Python/13_SQL.ipynb#X16sZmlsZQ%3D%3D?line=9'>10</a>\u001b[0m connect\u001b[39m.\u001b[39mcommit()\n",
      "\u001b[1;31mIntegrityError\u001b[0m: UNIQUE constraint failed: cursos.id"
     ]
    }
   ],
   "source": [
    "# Gerando outros registros\n",
    "dataset = [(1003, 'Gestão de Dados com MongoDB', 'Big Data'),\n",
    "          (1004, 'R Fundamentos', 'Análise de Dados')]\n",
    "\n",
    "# Inserindo os registros\n",
    "for i in dataset:\n",
    "    sql.execute('insert into cursos values (?, ?, ?)', i)\n",
    "    \n",
    "# Gravando a transação\n",
    "connect.commit()"
   ]
  },
  {
   "cell_type": "code",
   "execution_count": 57,
   "metadata": {},
   "outputs": [
    {
     "name": "stdout",
     "output_type": "stream",
     "text": [
      "Curso Id: 1000, Título: Ciência de Dados, Categoria: Data Science \n",
      "\n",
      "Curso Id: 1001, Título: Big Data Fundamentos, Categoria: Big Data \n",
      "\n",
      "Curso Id: 1002, Título: Python Fundamentos, Categoria: Análise de Dados \n",
      "\n",
      "Curso Id: 1003, Título: Gestão de Dados com MongoDB, Categoria: Big Data \n",
      "\n",
      "Curso Id: 1004, Título: R Fundamentos, Categoria: Análise de Dados \n",
      "\n"
     ]
    }
   ],
   "source": [
    "# Seleciona todos os registros\n",
    "sql.execute('select * from cursos')\n",
    "\n",
    "# Mostra\n",
    "for i in sql.fetchall():\n",
    "    print ('Curso Id: %d, Título: %s, Categoria: %s \\n' % i)"
   ]
  },
  {
   "cell_type": "code",
   "execution_count": 16,
   "metadata": {},
   "outputs": [],
   "source": [
    "# Fecha a conexão\n",
    "sql.close()\n",
    "connect.close()"
   ]
  },
  {
   "cell_type": "markdown",
   "metadata": {},
   "source": [
    "COMPILANDO COMANDOS POR FUNCOES"
   ]
  },
  {
   "cell_type": "code",
   "execution_count": 58,
   "metadata": {},
   "outputs": [],
   "source": [
    "import sqlite3\n",
    "import random\n",
    "import time\n",
    "import datetime\n",
    "conect  = sqlite3.connect ('Arquivos/dsa.dba')\n",
    "sql = conn.cursor()\n",
    "\n",
    "# Funcao criar tabela\n",
    "def create_table():\n",
    "    sql.execute (' CREATE TABLE IF NOT EXISTS produtos (id INTEGER PRIMARY KEY AUTOINCREMENT NOT NULL, date TEXT, prod_name TEXT, valor REAL)')\n",
    "\n",
    "# Funcao inserir linha\n",
    "def data_insert():\n",
    "    sql.execute (\"INSERT INTO produtos VALUES(10, '2018-05-02 14:32:11', 'Teclado', 90)\")\n",
    "    connect.commit()\n"
   ]
  },
  {
   "cell_type": "code",
   "execution_count": 59,
   "metadata": {},
   "outputs": [
    {
     "ename": "IntegrityError",
     "evalue": "UNIQUE constraint failed: produtos.id",
     "output_type": "error",
     "traceback": [
      "\u001b[1;31m---------------------------------------------------------------------------\u001b[0m",
      "\u001b[1;31mIntegrityError\u001b[0m                            Traceback (most recent call last)",
      "\u001b[1;32md:\\Alexandre\\GitHub\\Python\\13_SQL.ipynb Cell 12\u001b[0m in \u001b[0;36m<cell line: 2>\u001b[1;34m()\u001b[0m\n\u001b[0;32m      <a href='vscode-notebook-cell:/d%3A/Alexandre/GitHub/Python/13_SQL.ipynb#X24sZmlsZQ%3D%3D?line=0'>1</a>\u001b[0m create_table()\n\u001b[1;32m----> <a href='vscode-notebook-cell:/d%3A/Alexandre/GitHub/Python/13_SQL.ipynb#X24sZmlsZQ%3D%3D?line=1'>2</a>\u001b[0m data_insert()\n",
      "\u001b[1;32md:\\Alexandre\\GitHub\\Python\\13_SQL.ipynb Cell 12\u001b[0m in \u001b[0;36mdata_insert\u001b[1;34m()\u001b[0m\n\u001b[0;32m     <a href='vscode-notebook-cell:/d%3A/Alexandre/GitHub/Python/13_SQL.ipynb#X24sZmlsZQ%3D%3D?line=12'>13</a>\u001b[0m \u001b[39mdef\u001b[39;00m \u001b[39mdata_insert\u001b[39m():\n\u001b[1;32m---> <a href='vscode-notebook-cell:/d%3A/Alexandre/GitHub/Python/13_SQL.ipynb#X24sZmlsZQ%3D%3D?line=13'>14</a>\u001b[0m     sql\u001b[39m.\u001b[39;49mexecute (\u001b[39m\"\u001b[39;49m\u001b[39mINSERT INTO produtos VALUES(10, \u001b[39;49m\u001b[39m'\u001b[39;49m\u001b[39m2018-05-02 14:32:11\u001b[39;49m\u001b[39m'\u001b[39;49m\u001b[39m, \u001b[39;49m\u001b[39m'\u001b[39;49m\u001b[39mTeclado\u001b[39;49m\u001b[39m'\u001b[39;49m\u001b[39m, 90)\u001b[39;49m\u001b[39m\"\u001b[39;49m)\n\u001b[0;32m     <a href='vscode-notebook-cell:/d%3A/Alexandre/GitHub/Python/13_SQL.ipynb#X24sZmlsZQ%3D%3D?line=14'>15</a>\u001b[0m     connect\u001b[39m.\u001b[39mcommit()\n",
      "\u001b[1;31mIntegrityError\u001b[0m: UNIQUE constraint failed: produtos.id"
     ]
    }
   ],
   "source": [
    "create_table()\n",
    "data_insert()"
   ]
  },
  {
   "cell_type": "code",
   "execution_count": 60,
   "metadata": {},
   "outputs": [],
   "source": [
    "# Variaveis para insercao de dados\n",
    "def data_insert_var():\n",
    "    new_date = datetime.datetime.now()\n",
    "    new_prod = \"monitor\"\n",
    "    new_value = random.randrange(50,100)\n",
    "    sql.execute (\"INSERT INTO produtos (date, prod_name, valor) VALUES (?, ?, ?)\", (new_date, new_prod, new_value))\n",
    "    connect.commit()\n",
    "\n"
   ]
  },
  {
   "cell_type": "code",
   "execution_count": 61,
   "metadata": {},
   "outputs": [],
   "source": [
    "# Criando  os registros com o loop for\n",
    "for i in range(10):\n",
    "    data_insert_var()\n",
    "    time.sleep(1)\n"
   ]
  },
  {
   "cell_type": "code",
   "execution_count": 62,
   "metadata": {},
   "outputs": [
    {
     "name": "stdout",
     "output_type": "stream",
     "text": [
      "(10, '2018-05-02 14:32:11', 'Teclado', 90.0)\n",
      "(11, '2022-09-05 11:22:57.280451', 'monitor', 81.0)\n",
      "(12, '2022-09-05 11:22:58.346189', 'monitor', 82.0)\n",
      "(13, '2022-09-05 11:22:59.433283', 'monitor', 53.0)\n",
      "(14, '2022-09-05 11:23:00.518382', 'monitor', 93.0)\n",
      "(15, '2022-09-05 11:23:01.588522', 'monitor', 98.0)\n",
      "(16, '2022-09-05 11:23:02.648691', 'monitor', 70.0)\n",
      "(17, '2022-09-05 11:23:03.719828', 'monitor', 71.0)\n",
      "(18, '2022-09-05 11:23:04.792959', 'monitor', 92.0)\n",
      "(19, '2022-09-05 11:23:05.866607', 'monitor', 53.0)\n",
      "(20, '2022-09-05 11:23:06.930763', 'monitor', 61.0)\n",
      "(21, '2022-09-05 11:23:20.893610', 'monitor', 75.0)\n",
      "(22, '2022-09-05 11:23:21.952779', 'monitor', 76.0)\n",
      "(23, '2022-09-05 11:23:23.012772', 'monitor', 52.0)\n",
      "(24, '2022-09-05 11:23:24.086613', 'monitor', 73.0)\n",
      "(25, '2022-09-05 11:23:25.169718', 'monitor', 92.0)\n",
      "(26, '2022-09-05 11:23:26.235497', 'monitor', 57.0)\n",
      "(27, '2022-09-05 11:23:27.310744', 'monitor', 85.0)\n",
      "(28, '2022-09-05 11:23:28.374481', 'monitor', 75.0)\n",
      "(29, '2022-09-05 11:23:29.443800', 'monitor', 96.0)\n",
      "(30, '2022-09-05 11:23:30.508959', 'monitor', 53.0)\n",
      "(31, '2022-09-05 15:10:49.594259', 'monitor', 52.0)\n",
      "(32, '2022-09-05 15:10:50.603455', 'monitor', 51.0)\n",
      "(33, '2022-09-05 15:10:51.617326', 'monitor', 78.0)\n",
      "(34, '2022-09-05 15:10:52.629620', 'monitor', 55.0)\n",
      "(35, '2022-09-05 15:10:53.641914', 'monitor', 80.0)\n",
      "(36, '2022-09-05 15:10:54.655206', 'monitor', 93.0)\n",
      "(37, '2022-09-05 15:10:55.670490', 'monitor', 57.0)\n",
      "(38, '2022-09-05 15:10:56.671716', 'monitor', 68.0)\n",
      "(39, '2022-09-05 15:10:57.685520', 'monitor', 74.0)\n",
      "(40, '2022-09-05 15:10:58.694825', 'monitor', 76.0)\n"
     ]
    }
   ],
   "source": [
    "# Buscando registros\n",
    "def tabela():\n",
    "    sql.execute('SELECT * FROM produtos')\n",
    "    for i in sql.fetchall():\n",
    "        print(i)\n",
    "tabela()\n"
   ]
  },
  {
   "cell_type": "code",
   "execution_count": 63,
   "metadata": {},
   "outputs": [
    {
     "name": "stdout",
     "output_type": "stream",
     "text": [
      "(10, '2018-05-02 14:32:11', 'Teclado', 90.0)\n",
      "(11, '2022-09-05 11:22:57.280451', 'monitor', 81.0)\n",
      "(12, '2022-09-05 11:22:58.346189', 'monitor', 82.0)\n",
      "(14, '2022-09-05 11:23:00.518382', 'monitor', 93.0)\n",
      "(15, '2022-09-05 11:23:01.588522', 'monitor', 98.0)\n",
      "(16, '2022-09-05 11:23:02.648691', 'monitor', 70.0)\n",
      "(17, '2022-09-05 11:23:03.719828', 'monitor', 71.0)\n",
      "(18, '2022-09-05 11:23:04.792959', 'monitor', 92.0)\n",
      "(20, '2022-09-05 11:23:06.930763', 'monitor', 61.0)\n",
      "(21, '2022-09-05 11:23:20.893610', 'monitor', 75.0)\n",
      "(22, '2022-09-05 11:23:21.952779', 'monitor', 76.0)\n",
      "(24, '2022-09-05 11:23:24.086613', 'monitor', 73.0)\n",
      "(25, '2022-09-05 11:23:25.169718', 'monitor', 92.0)\n",
      "(27, '2022-09-05 11:23:27.310744', 'monitor', 85.0)\n",
      "(28, '2022-09-05 11:23:28.374481', 'monitor', 75.0)\n",
      "(29, '2022-09-05 11:23:29.443800', 'monitor', 96.0)\n",
      "(33, '2022-09-05 15:10:51.617326', 'monitor', 78.0)\n",
      "(35, '2022-09-05 15:10:53.641914', 'monitor', 80.0)\n",
      "(36, '2022-09-05 15:10:54.655206', 'monitor', 93.0)\n",
      "(38, '2022-09-05 15:10:56.671716', 'monitor', 68.0)\n",
      "(39, '2022-09-05 15:10:57.685520', 'monitor', 74.0)\n",
      "(40, '2022-09-05 15:10:58.694825', 'monitor', 76.0)\n"
     ]
    }
   ],
   "source": [
    "# Buscando registros com CONDICOES\n",
    "def tabela():\n",
    "    sql.execute('SELECT * FROM produtos WHERE valor > 60.0')\n",
    "    for i in sql.fetchall():\n",
    "        print(i)\n",
    "tabela()"
   ]
  },
  {
   "cell_type": "code",
   "execution_count": 66,
   "metadata": {},
   "outputs": [],
   "source": [
    "# UPDATE DE DADOS\n",
    "sql.execute(\"UPDATE produtos SET valor = 70.0 WHERE valor = 80.0\")\n",
    "connect.commit()"
   ]
  },
  {
   "cell_type": "code",
   "execution_count": 69,
   "metadata": {},
   "outputs": [
    {
     "data": {
      "text/plain": [
       "<sqlite3.Cursor at 0x22fd02a3ea0>"
      ]
     },
     "execution_count": 69,
     "metadata": {},
     "output_type": "execute_result"
    }
   ],
   "source": [
    "# DELETAR\n",
    "sql.execute(\"DELETE FROM produtos WHERE valor > 75.0\")"
   ]
  },
  {
   "cell_type": "code",
   "execution_count": 72,
   "metadata": {},
   "outputs": [
    {
     "name": "stdout",
     "output_type": "stream",
     "text": [
      "53.0\n",
      "70.0\n",
      "71.0\n",
      "53.0\n",
      "61.0\n",
      "75.0\n",
      "52.0\n",
      "73.0\n",
      "57.0\n",
      "75.0\n",
      "53.0\n",
      "52.0\n",
      "51.0\n",
      "55.0\n",
      "70.0\n",
      "57.0\n",
      "68.0\n",
      "74.0\n"
     ]
    }
   ],
   "source": [
    "# Buscando consulta por coluna\n",
    "def tabela():\n",
    "    sql.execute('SELECT * FROM produtos')\n",
    "    for i in sql.fetchall():\n",
    "        print(i[3])\n",
    "tabela()"
   ]
  },
  {
   "cell_type": "code",
   "execution_count": 74,
   "metadata": {},
   "outputs": [
    {
     "data": {
      "image/png": "[encoded data removed]",
      "text/plain": [
       "<Figure size 432x288 with 1 Axes>"
      ]
     },
     "metadata": {
      "needs_background": "light"
     },
     "output_type": "display_data"
    }
   ],
   "source": [
    "import matplotlib.pyplot as plt\n",
    "\n",
    "# Funcao para dados graficos\n",
    "sql.execute(\"SELECT id, valor FROM produtos\")\n",
    "ids = []\n",
    "valores = []\n",
    "dados = sql.fetchall()\n",
    "for i in dados:\n",
    "    ids.append(i[0])\n",
    "    valores.append(i[1])\n",
    "\n",
    "plt.bar(ids,valores)\n",
    "plt.show()"
   ]
  }
 ],
 "metadata": {
  "kernelspec": {
   "display_name": "Python 3.9.12 ('base')",
   "language": "python",
   "name": "python3"
  },
  "language_info": {
   "codemirror_mode": {
    "name": "ipython",
    "version": 3
   },
   "file_extension": ".py",
   "mimetype": "text/x-python",
   "name": "python",
   "nbconvert_exporter": "python",
   "pygments_lexer": "ipython3",
   "version": "3.9.12"
  },
  "orig_nbformat": 4,
  "vscode": {
   "interpreter": {
    "hash": "83fd2c460b4c3c4fddeb052a5d98b173390b33728956ff4bb0c8a4db32b23eec"
   }
  }
 },
 "nbformat": 4,
 "nbformat_minor": 2
}
