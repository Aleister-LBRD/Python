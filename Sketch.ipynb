{
 "cells": [
  {
   "cell_type": "code",
   "execution_count": 24,
   "metadata": {},
   "outputs": [
    {
     "name": "stdout",
     "output_type": "stream",
     "text": [
      "**********Python Calculator**********\n"
     ]
    }
   ],
   "source": [
    "# Calculadora em Python\n",
    "\n",
    "print(\"**********Python Calculator**********\")\n",
    "\n",
    "num1 = int(input('insira um numero: '))\n",
    "num2 = int(input('insira outro numero: '))\n",
    "operador = input('insira a operação: ')"
   ]
  },
  {
   "cell_type": "code",
   "execution_count": 13,
   "metadata": {},
   "outputs": [],
   "source": [
    "# funçoes\n",
    "def soma (num1,num2):\n",
    "    resultado = num1 + num2\n",
    "    return resultado\n",
    "\n",
    "def sub (num1,num2):\n",
    "    resultado = num1 - num2\n",
    "    return resultado\n",
    "\n",
    "def mult (num1,num2):\n",
    "    resultado = num1 * num2\n",
    "    return resultado\n",
    "\n",
    "def div (num1,num2):\n",
    "    resultado = num1 / num2\n",
    "    return resultado"
   ]
  },
  {
   "cell_type": "code",
   "execution_count": 26,
   "metadata": {},
   "outputs": [
    {
     "name": "stdout",
     "output_type": "stream",
     "text": [
      "7 * 7 = 49\n"
     ]
    }
   ],
   "source": [
    "if operador == '+':\n",
    "    print(f'{num1} {operador} {num2} = {soma(num1,num2)}')\n",
    "elif operador == '-':\n",
    "    print(f'{num1} {operador} {num2} = {sub(num1,num2)}')\n",
    "elif operador == '/':\n",
    "    print(f'{num1} {operador} {num2} = {div(num1,num2)}')\n",
    "elif operador == '*':\n",
    "    print(f'{num1} {operador} {num2} = {mult(num1,num2)}')\n"
   ]
  }
 ],
 "metadata": {
  "kernelspec": {
   "display_name": "Python 3.9.12 ('base')",
   "language": "python",
   "name": "python3"
  },
  "language_info": {
   "codemirror_mode": {
    "name": "ipython",
    "version": 3
   },
   "file_extension": ".py",
   "mimetype": "text/x-python",
   "name": "python",
   "nbconvert_exporter": "python",
   "pygments_lexer": "ipython3",
   "version": "3.9.12"
  },
  "orig_nbformat": 4,
  "vscode": {
   "interpreter": {
    "hash": "83fd2c460b4c3c4fddeb052a5d98b173390b33728956ff4bb0c8a4db32b23eec"
   }
  }
 },
 "nbformat": 4,
 "nbformat_minor": 2
}
