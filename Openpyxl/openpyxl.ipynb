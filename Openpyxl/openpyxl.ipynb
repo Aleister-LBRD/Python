{
 "cells": [
  {
   "cell_type": "code",
   "execution_count": 44,
   "metadata": {},
   "outputs": [],
   "source": [
    "# Importando Biblioteca\n",
    "import openpyxl"
   ]
  },
  {
   "cell_type": "code",
   "execution_count": 70,
   "metadata": {},
   "outputs": [
    {
     "name": "stdout",
     "output_type": "stream",
     "text": [
      "['Sheet', 'Lista']\n"
     ]
    }
   ],
   "source": [
    "# Criando Lista\n",
    "workbook = openpyxl.Workbook()\n",
    "workbook.create_sheet('Lista')\n",
    "print(workbook.sheetnames)\n"
   ]
  },
  {
   "cell_type": "code",
   "execution_count": 71,
   "metadata": {},
   "outputs": [],
   "source": [
    "# Preenchendo lista\n",
    "wb = workbook['Lista']\n",
    "wb.append(['Nome','Sobrenome','Idade'])\n",
    "wb.append(['Alexandre','Lombarde','35'])\n",
    "wb.append(['Ivy','Costa','36'])\n",
    "\n",
    "workbook.save('Lista de Nomes.xlsx')\n"
   ]
  }
 ],
 "metadata": {
  "kernelspec": {
   "display_name": "Python 3.9.12 ('base')",
   "language": "python",
   "name": "python3"
  },
  "language_info": {
   "codemirror_mode": {
    "name": "ipython",
    "version": 3
   },
   "file_extension": ".py",
   "mimetype": "text/x-python",
   "name": "python",
   "nbconvert_exporter": "python",
   "pygments_lexer": "ipython3",
   "version": "3.9.12"
  },
  "orig_nbformat": 4,
  "vscode": {
   "interpreter": {
    "hash": "83fd2c460b4c3c4fddeb052a5d98b173390b33728956ff4bb0c8a4db32b23eec"
   }
  }
 },
 "nbformat": 4,
 "nbformat_minor": 2
}
