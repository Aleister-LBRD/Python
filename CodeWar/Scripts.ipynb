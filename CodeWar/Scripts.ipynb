{
 "cells": [
  {
   "cell_type": "markdown",
   "metadata": {},
   "source": [
    "Mascarando Numeros números, menos os 4 ultimos"
   ]
  },
  {
   "cell_type": "code",
   "execution_count": 8,
   "metadata": {},
   "outputs": [],
   "source": [
    "def maskify(cc):\n",
    "    cc1 = cc[:-4]\n",
    "    show = ''\n",
    "    for i in cc1:\n",
    "        show += '#'\n",
    "    return show + cc[-4:]"
   ]
  },
  {
   "cell_type": "code",
   "execution_count": 9,
   "metadata": {},
   "outputs": [
    {
     "data": {
      "text/plain": [
       "'############este'"
      ]
     },
     "execution_count": 9,
     "metadata": {},
     "output_type": "execute_result"
    }
   ],
   "source": [
    "maskify('texto para teste')"
   ]
  },
  {
   "cell_type": "markdown",
   "metadata": {},
   "source": [
    "Convertendo listas em strings e vice versa"
   ]
  },
  {
   "cell_type": "code",
   "execution_count": 34,
   "metadata": {},
   "outputs": [],
   "source": [
    "def reverse_words(text):\n",
    "    text1 = text.split(' ')\n",
    "    text2 = ''\n",
    "    for i in text1:\n",
    "        text2 += i[::-1] + \" \"\n",
    "    return text2[:-1]\n"
   ]
  },
  {
   "cell_type": "code",
   "execution_count": 36,
   "metadata": {},
   "outputs": [
    {
     "data": {
      "text/plain": [
       "'double  spaced  words'"
      ]
     },
     "execution_count": 36,
     "metadata": {},
     "output_type": "execute_result"
    }
   ],
   "source": [
    "reverse_words('elbuod  decaps  sdrow')\n"
   ]
  },
  {
   "cell_type": "markdown",
   "metadata": {},
   "source": [
    "Estraindo numeros de texto e reorganizando"
   ]
  },
  {
   "cell_type": "code",
   "execution_count": 1,
   "metadata": {},
   "outputs": [
    {
     "name": "stdout",
     "output_type": "stream",
     "text": [
      "['4of', 'Fo1r', 'pe6ople', 'g3ood', 'th5e', 'the2']\n",
      "['4', '1', '6', '3', '5', '2']\n"
     ]
    }
   ],
   "source": [
    "text = '4of Fo1r pe6ople g3ood th5e the2'\n",
    "text1 = text.split(' ')\n",
    "list1 = []\n",
    "for i in text1:\n",
    "    list1.append(i)\n",
    "\n",
    "list2 = []\n",
    "for i in text:\n",
    "    if i.isdigit():\n",
    "        list2.append(i)\n",
    "\n",
    "\n",
    "\n",
    "print(list1)\n",
    "print(list2)"
   ]
  }
 ],
 "metadata": {
  "kernelspec": {
   "display_name": "Python 3.9.12 ('base')",
   "language": "python",
   "name": "python3"
  },
  "language_info": {
   "codemirror_mode": {
    "name": "ipython",
    "version": 3
   },
   "file_extension": ".py",
   "mimetype": "text/x-python",
   "name": "python",
   "nbconvert_exporter": "python",
   "pygments_lexer": "ipython3",
   "version": "3.9.12"
  },
  "orig_nbformat": 4,
  "vscode": {
   "interpreter": {
    "hash": "83fd2c460b4c3c4fddeb052a5d98b173390b33728956ff4bb0c8a4db32b23eec"
   }
  }
 },
 "nbformat": 4,
 "nbformat_minor": 2
}
