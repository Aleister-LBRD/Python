{
 "cells": [
  {
   "cell_type": "markdown",
   "metadata": {},
   "source": [
    "Mascarando Numeros números, menos os 4 ultimos"
   ]
  },
  {
   "cell_type": "code",
   "execution_count": 8,
   "metadata": {},
   "outputs": [],
   "source": [
    "def maskify(cc):\n",
    "    cc1 = cc[:-4]\n",
    "    show = ''\n",
    "    for i in cc1:\n",
    "        show += '#'\n",
    "    return show + cc[-4:]"
   ]
  },
  {
   "cell_type": "code",
   "execution_count": 9,
   "metadata": {},
   "outputs": [
    {
     "data": {
      "text/plain": [
       "'############este'"
      ]
     },
     "execution_count": 9,
     "metadata": {},
     "output_type": "execute_result"
    }
   ],
   "source": [
    "maskify('texto para teste')"
   ]
  },
  {
   "cell_type": "markdown",
   "metadata": {},
   "source": [
    "Convertendo listas em strings e vice versa"
   ]
  },
  {
   "cell_type": "code",
   "execution_count": 34,
   "metadata": {},
   "outputs": [],
   "source": [
    "def reverse_words(text):\n",
    "    text1 = text.split(' ')\n",
    "    text2 = ''\n",
    "    for i in text1:\n",
    "        text2 += i[::-1] + \" \"\n",
    "    return text2[:-1]\n"
   ]
  },
  {
   "cell_type": "code",
   "execution_count": 36,
   "metadata": {},
   "outputs": [
    {
     "data": {
      "text/plain": [
       "'double  spaced  words'"
      ]
     },
     "execution_count": 36,
     "metadata": {},
     "output_type": "execute_result"
    }
   ],
   "source": [
    "reverse_words('elbuod  decaps  sdrow')\n"
   ]
  },
  {
   "cell_type": "markdown",
   "metadata": {},
   "source": [
    "Organizando palavras de acordo com o numero em cada palavra"
   ]
  },
  {
   "cell_type": "code",
   "execution_count": 45,
   "metadata": {},
   "outputs": [],
   "source": [
    "def order(sentence):\n",
    "    list1 = []\n",
    "    for i in sentence:\n",
    "        if i.isdigit():\n",
    "            list1.append(i)\n",
    "\n",
    "    text1 = sentence.split(' ')\n",
    "\n",
    "    list2 = []\n",
    "    for i in text1:\n",
    "        list2.append(i)\n",
    "\n",
    "    dic = {}\n",
    "    count = 0\n",
    "\n",
    "    for i in list1:\n",
    "        dic[list1[count]] = list2[count]\n",
    "        count += 1\n",
    "\n",
    "    sort_list1 = sorted(list1)\n",
    "\n",
    "    show = ''\n",
    "\n",
    "    for i in sort_list1:\n",
    "        show += dic[i]+' '\n",
    "\n",
    "    return show[:-1]"
   ]
  },
  {
   "cell_type": "code",
   "execution_count": 46,
   "metadata": {},
   "outputs": [
    {
     "data": {
      "text/plain": [
       "'Thi1s is2 3a T4est'"
      ]
     },
     "execution_count": 46,
     "metadata": {},
     "output_type": "execute_result"
    }
   ],
   "source": [
    "order('is2 Thi1s T4est 3a')"
   ]
  },
  {
   "cell_type": "code",
   "execution_count": 1,
   "metadata": {},
   "outputs": [],
   "source": [
    "def order1(words):\n",
    "  return sorted(words.split(), key=lambda w:sorted(w))"
   ]
  },
  {
   "cell_type": "code",
   "execution_count": 2,
   "metadata": {},
   "outputs": [
    {
     "data": {
      "text/plain": [
       "['Thi1s', 'is2', '3a', 'T4est']"
      ]
     },
     "execution_count": 2,
     "metadata": {},
     "output_type": "execute_result"
    }
   ],
   "source": [
    "order1('is2 Thi1s T4est 3a')"
   ]
  },
  {
   "cell_type": "markdown",
   "metadata": {},
   "source": [
    "Write a function that accepts an integer n and a string s as parameters, and returns a string of s repeated exactly n times.<br>\n",
    "Examples (input -> output)<br>\n",
    "6, \"I\"     -> \"IIIIII\"<br>\n",
    "5, \"Hello\" -> \"HelloHelloHelloHelloHello\""
   ]
  },
  {
   "cell_type": "code",
   "execution_count": 22,
   "metadata": {},
   "outputs": [
    {
     "data": {
      "text/plain": [
       "'hellohellohellohellohellohellohello'"
      ]
     },
     "execution_count": 22,
     "metadata": {},
     "output_type": "execute_result"
    }
   ],
   "source": [
    "rep = 7\n",
    "str = 'hello'\n",
    "result = rep * str\n",
    "result"
   ]
  },
  {
   "cell_type": "code",
   "execution_count": 27,
   "metadata": {},
   "outputs": [
    {
     "data": {
      "text/plain": [
       "'hellohello'"
      ]
     },
     "execution_count": 27,
     "metadata": {},
     "output_type": "execute_result"
    }
   ],
   "source": [
    "repeat_str = lambda r, s: s * r\n",
    "repeat_str(2,'hello')"
   ]
  },
  {
   "cell_type": "markdown",
   "metadata": {},
   "source": [
    "Complete the solution so that it reverses the string passed into it.<br>\n",
    "'world'  =>  'dlrow'<br>\n",
    "'word'   =>  'drow'<br>"
   ]
  },
  {
   "cell_type": "code",
   "execution_count": 73,
   "metadata": {},
   "outputs": [
    {
     "data": {
      "text/plain": [
       "'erdnaxela'"
      ]
     },
     "execution_count": 73,
     "metadata": {},
     "output_type": "execute_result"
    }
   ],
   "source": [
    "string = 'alexandre'\n",
    "string[::-1]"
   ]
  }
 ],
 "metadata": {
  "kernelspec": {
   "display_name": "Python 3.9.12 ('base')",
   "language": "python",
   "name": "python3"
  },
  "language_info": {
   "codemirror_mode": {
    "name": "ipython",
    "version": 3
   },
   "file_extension": ".py",
   "mimetype": "text/x-python",
   "name": "python",
   "nbconvert_exporter": "python",
   "pygments_lexer": "ipython3",
   "version": "3.9.12"
  },
  "orig_nbformat": 4,
  "vscode": {
   "interpreter": {
    "hash": "83fd2c460b4c3c4fddeb052a5d98b173390b33728956ff4bb0c8a4db32b23eec"
   }
  }
 },
 "nbformat": 4,
 "nbformat_minor": 2
}
