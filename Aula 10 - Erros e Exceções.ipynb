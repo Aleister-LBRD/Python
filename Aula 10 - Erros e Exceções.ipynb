{
 "cells": [
  {
   "cell_type": "code",
   "execution_count": 22,
   "metadata": {},
   "outputs": [
    {
     "name": "stdout",
     "output_type": "stream",
     "text": [
      "Operacao realizada com sucesso\n",
      "Agradecemos o contato!\n"
     ]
    }
   ],
   "source": [
    "# Funcao para trativas de erros\n",
    "try:\n",
    "    val = int(input('Por favor, insira um numero de 0 a 9:'))\n",
    "except:\n",
    "    val = int(input('Dados invalidos. \\n Tente Novamente: Por favor, insira um numero de 0 a 9:'))\n",
    "else:\n",
    "    print('Operacao realizada com sucesso')\n",
    "finally:\n",
    "    print('Agradecemos o contato!')"
   ]
  },
  {
   "cell_type": "code",
   "execution_count": 26,
   "metadata": {},
   "outputs": [
    {
     "name": "stdout",
     "output_type": "stream",
     "text": [
      "Operacao realizada com sucesso\n",
      "Agradecemos o contato!\n"
     ]
    }
   ],
   "source": [
    "# Funcao para trativas de erros 3 tentativas\n",
    "try:\n",
    "    val = int(input('Por favor, insira um numero de 0 a 9:'))\n",
    "except:\n",
    "    try:\n",
    "        val = int(input('Dados invalidos. \\n Tente Novamente: Por favor, insira um numero de 0 a 9:'))\n",
    "    except:\n",
    "        try:\n",
    "            val = int(input('Dados invalidos. \\n Tente Novamente: Por favor, insira um numero de 0 a 9:'))\n",
    "        except:\n",
    "            print('Não foi possivel realizar essa operacao!')\n",
    "        else:\n",
    "            print('Operacao realizada com sucesso')\n",
    "    else:\n",
    "        print('Operacao realizada com sucesso')\n",
    "else:\n",
    "    print('Operacao realizada com sucesso')\n",
    "finally:\n",
    "    print('Agradecemos o contato!')"
   ]
  }
 ],
 "metadata": {
  "kernelspec": {
   "display_name": "Python 3.9.12 ('base')",
   "language": "python",
   "name": "python3"
  },
  "language_info": {
   "codemirror_mode": {
    "name": "ipython",
    "version": 3
   },
   "file_extension": ".py",
   "mimetype": "text/x-python",
   "name": "python",
   "nbconvert_exporter": "python",
   "pygments_lexer": "ipython3",
   "version": "3.9.12"
  },
  "orig_nbformat": 4,
  "vscode": {
   "interpreter": {
    "hash": "83fd2c460b4c3c4fddeb052a5d98b173390b33728956ff4bb0c8a4db32b23eec"
   }
  }
 },
 "nbformat": 4,
 "nbformat_minor": 2
}
