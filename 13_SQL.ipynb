{
 "cells": [
  {
   "cell_type": "code",
   "execution_count": 31,
   "metadata": {},
   "outputs": [
    {
     "ename": "PermissionError",
     "evalue": "[WinError 32] The process cannot access the file because it is being used by another process: 'Arquivos/escola.db'",
     "output_type": "error",
     "traceback": [
      "\u001b[1;31m---------------------------------------------------------------------------\u001b[0m",
      "\u001b[1;31mPermissionError\u001b[0m                           Traceback (most recent call last)",
      "\u001b[1;32md:\\Alexandre\\GitHub\\Python\\13_SQL.ipynb Cell 1\u001b[0m in \u001b[0;36m<cell line: 3>\u001b[1;34m()\u001b[0m\n\u001b[0;32m      <a href='vscode-notebook-cell:/d%3A/Alexandre/GitHub/Python/13_SQL.ipynb#X22sZmlsZQ%3D%3D?line=0'>1</a>\u001b[0m \u001b[39m# Reemove o arquivo com o banco de dados SQLite (caso exista)\u001b[39;00m\n\u001b[0;32m      <a href='vscode-notebook-cell:/d%3A/Alexandre/GitHub/Python/13_SQL.ipynb#X22sZmlsZQ%3D%3D?line=1'>2</a>\u001b[0m \u001b[39mimport\u001b[39;00m \u001b[39mos\u001b[39;00m\n\u001b[1;32m----> <a href='vscode-notebook-cell:/d%3A/Alexandre/GitHub/Python/13_SQL.ipynb#X22sZmlsZQ%3D%3D?line=2'>3</a>\u001b[0m os\u001b[39m.\u001b[39;49mremove(\u001b[39m\"\u001b[39;49m\u001b[39mArquivos/escola.db\u001b[39;49m\u001b[39m\"\u001b[39;49m) \u001b[39mif\u001b[39;00m os\u001b[39m.\u001b[39mpath\u001b[39m.\u001b[39mexists(\u001b[39m\"\u001b[39m\u001b[39mArquivos/escola.db\u001b[39m\u001b[39m\"\u001b[39m) \u001b[39melse\u001b[39;00m \u001b[39mNone\u001b[39;00m\n",
      "\u001b[1;31mPermissionError\u001b[0m: [WinError 32] The process cannot access the file because it is being used by another process: 'Arquivos/escola.db'"
     ]
    }
   ],
   "source": [
    "# Reemove o arquivo com o banco de dados SQLite (caso exista)\n",
    "import os\n",
    "os.remove(\"Arquivos/escola.db\") if os.path.exists(\"Arquivos/escola.db\") else None"
   ]
  },
  {
   "cell_type": "code",
   "execution_count": 14,
   "metadata": {},
   "outputs": [],
   "source": [
    "# Importando o módulo de acesso ao SQLite\n",
    "import sqlite3"
   ]
  },
  {
   "cell_type": "code",
   "execution_count": 15,
   "metadata": {},
   "outputs": [],
   "source": [
    "# Cria uma conexão com o banco de dados. \n",
    "# Se o banco de dados não existir, ele é criado neste momento.\n",
    "con = sqlite3.connect('Arquivos/escola.db')"
   ]
  },
  {
   "cell_type": "code",
   "execution_count": 17,
   "metadata": {},
   "outputs": [],
   "source": [
    "# Criando um cursor \n",
    "# (Um cursor permite percorrer todos os registros em um conjunto de dados)\n",
    "cur = con.cursor()"
   ]
  },
  {
   "cell_type": "code",
   "execution_count": 18,
   "metadata": {},
   "outputs": [],
   "source": [
    "# Cria uma instrução sql\n",
    "sql_create = 'create table cursos '\\\n",
    "'(id integer primary key, '\\\n",
    "'titulo varchar(100), '\\\n",
    "'categoria varchar(140))'"
   ]
  },
  {
   "cell_type": "code",
   "execution_count": 19,
   "metadata": {},
   "outputs": [
    {
     "ename": "OperationalError",
     "evalue": "table cursos already exists",
     "output_type": "error",
     "traceback": [
      "\u001b[1;31m---------------------------------------------------------------------------\u001b[0m",
      "\u001b[1;31mOperationalError\u001b[0m                          Traceback (most recent call last)",
      "\u001b[1;32md:\\Alexandre\\GitHub\\Python\\13_SQL.ipynb Cell 6\u001b[0m in \u001b[0;36m<cell line: 2>\u001b[1;34m()\u001b[0m\n\u001b[0;32m      <a href='vscode-notebook-cell:/d%3A/Alexandre/GitHub/Python/13_SQL.ipynb#X32sZmlsZQ%3D%3D?line=0'>1</a>\u001b[0m \u001b[39m# Executando a instrução sql no cursor\u001b[39;00m\n\u001b[1;32m----> <a href='vscode-notebook-cell:/d%3A/Alexandre/GitHub/Python/13_SQL.ipynb#X32sZmlsZQ%3D%3D?line=1'>2</a>\u001b[0m cur\u001b[39m.\u001b[39;49mexecute(sql_create)\n",
      "\u001b[1;31mOperationalError\u001b[0m: table cursos already exists"
     ]
    }
   ],
   "source": [
    "# Executando a instrução sql no cursor\n",
    "cur.execute(sql_create)"
   ]
  },
  {
   "cell_type": "code",
   "execution_count": 20,
   "metadata": {},
   "outputs": [],
   "source": [
    "# Criando outra sentença SQL para inserir registros\n",
    "sql_insert = 'insert into cursos values (?, ?, ?)'"
   ]
  },
  {
   "cell_type": "code",
   "execution_count": 21,
   "metadata": {},
   "outputs": [],
   "source": [
    "# Dados\n",
    "recset = [(1000, 'Ciência de Dados', 'Data Science'),\n",
    "          (1001, 'Big Data Fundamentos', 'Big Data'),\n",
    "          (1002, 'Python Fundamentos', 'Análise de Dados')]"
   ]
  },
  {
   "cell_type": "code",
   "execution_count": 22,
   "metadata": {},
   "outputs": [
    {
     "ename": "IntegrityError",
     "evalue": "UNIQUE constraint failed: cursos.id",
     "output_type": "error",
     "traceback": [
      "\u001b[1;31m---------------------------------------------------------------------------\u001b[0m",
      "\u001b[1;31mIntegrityError\u001b[0m                            Traceback (most recent call last)",
      "\u001b[1;32md:\\Alexandre\\GitHub\\Python\\13_SQL.ipynb Cell 9\u001b[0m in \u001b[0;36m<cell line: 2>\u001b[1;34m()\u001b[0m\n\u001b[0;32m      <a href='vscode-notebook-cell:/d%3A/Alexandre/GitHub/Python/13_SQL.ipynb#X35sZmlsZQ%3D%3D?line=0'>1</a>\u001b[0m \u001b[39m# Inserindo os registros\u001b[39;00m\n\u001b[0;32m      <a href='vscode-notebook-cell:/d%3A/Alexandre/GitHub/Python/13_SQL.ipynb#X35sZmlsZQ%3D%3D?line=1'>2</a>\u001b[0m \u001b[39mfor\u001b[39;00m rec \u001b[39min\u001b[39;00m recset:\n\u001b[1;32m----> <a href='vscode-notebook-cell:/d%3A/Alexandre/GitHub/Python/13_SQL.ipynb#X35sZmlsZQ%3D%3D?line=2'>3</a>\u001b[0m     cur\u001b[39m.\u001b[39;49mexecute(sql_insert, rec)\n",
      "\u001b[1;31mIntegrityError\u001b[0m: UNIQUE constraint failed: cursos.id"
     ]
    }
   ],
   "source": [
    "# Inserindo os registros\n",
    "for rec in recset:\n",
    "    cur.execute(sql_insert, rec)"
   ]
  },
  {
   "cell_type": "code",
   "execution_count": 23,
   "metadata": {},
   "outputs": [],
   "source": [
    "# Grava a transação\n",
    "con.commit()"
   ]
  },
  {
   "cell_type": "code",
   "execution_count": 24,
   "metadata": {},
   "outputs": [],
   "source": [
    "# Criando outra sentença SQL para selecionar registros\n",
    "sql_select = 'select * from cursos'"
   ]
  },
  {
   "cell_type": "code",
   "execution_count": 25,
   "metadata": {},
   "outputs": [],
   "source": [
    "# Seleciona todos os registros e recupera os registros\n",
    "cur.execute(sql_select)\n",
    "dados = cur.fetchall()"
   ]
  },
  {
   "cell_type": "code",
   "execution_count": 26,
   "metadata": {},
   "outputs": [
    {
     "name": "stdout",
     "output_type": "stream",
     "text": [
      "Curso Id: 1000, Título: Ciencia de dados, Categoria: Data Science \n",
      "\n",
      "Curso Id: 1001, Título: Big data fundamentos, Categoria: Bid data \n",
      "\n",
      "Curso Id: 1002, Título: Phyton fundamentos, Categoria: Analise de dados \n",
      "\n"
     ]
    }
   ],
   "source": [
    "# Mostra\n",
    "for linha in dados:\n",
    "    print ('Curso Id: %d, Título: %s, Categoria: %s \\n' % linha)"
   ]
  },
  {
   "cell_type": "code",
   "execution_count": 27,
   "metadata": {},
   "outputs": [],
   "source": [
    "# Gerando outros registros\n",
    "recset = [(1003, 'Gestão de Dados com MongoDB', 'Big Data'),\n",
    "          (1004, 'R Fundamentos', 'Análise de Dados')]\n",
    "\n",
    "# Inserindo os registros\n",
    "for rec in recset:\n",
    "    cur.execute(sql_insert, rec)\n",
    "    \n",
    "# Gravando a transação\n",
    "con.commit()"
   ]
  },
  {
   "cell_type": "code",
   "execution_count": 29,
   "metadata": {},
   "outputs": [
    {
     "name": "stdout",
     "output_type": "stream",
     "text": [
      "Curso Id: 1000, Título: Ciencia de dados, Categoria: Data Science \n",
      "\n",
      "Curso Id: 1001, Título: Big data fundamentos, Categoria: Bid data \n",
      "\n",
      "Curso Id: 1002, Título: Phyton fundamentos, Categoria: Analise de dados \n",
      "\n",
      "Curso Id: 1003, Título: Gestão de Dados com MongoDB, Categoria: Big Data \n",
      "\n",
      "Curso Id: 1004, Título: R Fundamentos, Categoria: Análise de Dados \n",
      "\n"
     ]
    }
   ],
   "source": [
    "# Seleciona todos os registros\n",
    "cur.execute('select * from cursos')\n",
    "\n",
    "# Recupera os resultados\n",
    "recset = cur.fetchall()\n",
    "\n",
    "# Mostra\n",
    "for rec in recset:\n",
    "    print ('Curso Id: %d, Título: %s, Categoria: %s \\n' % rec)"
   ]
  },
  {
   "cell_type": "code",
   "execution_count": 30,
   "metadata": {},
   "outputs": [],
   "source": [
    "# Fecha a conexão\n",
    "con.close()"
   ]
  }
 ],
 "metadata": {
  "kernelspec": {
   "display_name": "Python 3.9.12 ('base')",
   "language": "python",
   "name": "python3"
  },
  "language_info": {
   "codemirror_mode": {
    "name": "ipython",
    "version": 3
   },
   "file_extension": ".py",
   "mimetype": "text/x-python",
   "name": "python",
   "nbconvert_exporter": "python",
   "pygments_lexer": "ipython3",
   "version": "3.9.12"
  },
  "orig_nbformat": 4,
  "vscode": {
   "interpreter": {
    "hash": "83fd2c460b4c3c4fddeb052a5d98b173390b33728956ff4bb0c8a4db32b23eec"
   }
  }
 },
 "nbformat": 4,
 "nbformat_minor": 2
}
